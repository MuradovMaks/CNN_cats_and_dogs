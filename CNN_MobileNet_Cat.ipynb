{
  "nbformat": 4,
  "nbformat_minor": 0,
  "metadata": {
    "colab": {
      "provenance": [],
      "gpuType": "T4",
      "authorship_tag": "ABX9TyOqxCOdUs9GhczccnmrU04c",
      "include_colab_link": true
    },
    "kernelspec": {
      "name": "python3",
      "display_name": "Python 3"
    },
    "language_info": {
      "name": "python"
    },
    "accelerator": "GPU"
  },
  "cells": [
    {
      "cell_type": "markdown",
      "metadata": {
        "id": "view-in-github",
        "colab_type": "text"
      },
      "source": [
        "<a href=\"https://colab.research.google.com/github/MuradovMaks/CNN_cats_and_dogs/blob/main/CNN_MobileNet_Cat.ipynb\" target=\"_parent\"><img src=\"https://colab.research.google.com/assets/colab-badge.svg\" alt=\"Open In Colab\"/></a>"
      ]
    },
    {
      "cell_type": "code",
      "execution_count": null,
      "metadata": {
        "id": "to-FExztSZGp"
      },
      "outputs": [],
      "source": [
        "!unzip -qo \"cat-and-dog\" -d ./temp\n",
        "IMAGE_PATH = './temp/training_set/training_set/'\n",
        "BASE_DIR = './dataset/'"
      ]
    },
    {
      "cell_type": "code",
      "source": [
        "import os\n",
        "# Набор утилит для работы с файловой системой\n",
        "import shutil\n",
        "from keras import layers # импортируем слои\n",
        "from keras import models # импортируем модели\n",
        "from keras import optimizers  # импортируем функции оптимизации\n",
        "from tensorflow.keras.preprocessing.image import ImageDataGenerator\n",
        "\n",
        "\n",
        "# Папка с папками картинок, рассортированных по категориям\n",
        "IMAGE_PATH = './temp/training_set/training_set/'\n",
        "\n",
        "# Папка в которой будем создавать выборки\n",
        "BASE_DIR = './dataset/'\n",
        "\n",
        "# Определение списка имен классов\n",
        "CLASS_LIST = sorted(os.listdir(IMAGE_PATH))\n",
        "\n",
        "# Определение количества классов\n",
        "CLASS_COUNT = len(CLASS_LIST)\n",
        "\n",
        "# При повторном запуске пересоздаим структуру каталогов\n",
        "# Если папка существует, то удаляем ее со всеми вложенными каталогами и файлами\n",
        "if os.path.exists(BASE_DIR):\n",
        "    shutil.rmtree(BASE_DIR)\n",
        "\n",
        "# Создаем папку по пути BASE_DIR\n",
        "os.mkdir(BASE_DIR)\n",
        "\n",
        "# Сцепляем путь до папки с именем вложенной папки. Аналогично BASE_DIR + '/train'\n",
        "train_dir = os.path.join(BASE_DIR, 'train')\n",
        "\n",
        "# Создаем подпапку, используя путь\n",
        "os.mkdir(train_dir)\n",
        "\n",
        "# Сцепляем путь до папки с именем вложенной папки. Аналогично BASE_DIR + '/validation'\n",
        "validation_dir = os.path.join(BASE_DIR, 'validation')\n",
        "\n",
        "# Создаем подпапку, используя путь\n",
        "os.mkdir(validation_dir)\n",
        "\n",
        "# Сцепляем путь до папки с именем вложенной папки. Аналогично BASE_DIR + '/test'\n",
        "test_dir = os.path.join(BASE_DIR, 'test')\n",
        "\n",
        "# Создаем подпапку, используя путь\n",
        "os.mkdir(test_dir)\n",
        "\n",
        "# Функция создания подвыборок (папок с файлами)\n",
        "def create_dataset(\n",
        "    img_path: str,         # Путь к файлам с изображениями классов\n",
        "    new_path: str,         # Путь к папке с выборками\n",
        "    class_name: str,       # Имя класса (оно же и имя папки)\n",
        "    start_index: int,      # Стартовый индекс изображения, с которого начинаем подвыборку\n",
        "    end_index: int         # Конечный индекс изображения, до которого создаем подвыборку\n",
        "\n",
        "):\n",
        "\n",
        "    src_path = os.path.join(img_path, class_name)  # Полный путь к папке с изображениями класса\n",
        "    dst_path = os.path.join(new_path, class_name)  # Полный путь к папке с новым датасетом класса\n",
        "\n",
        "    # Получение списка имен файлов с изображениями текущего класса\n",
        "    class_files = os.listdir(src_path)\n",
        "\n",
        "    # Создаем подпапку, используя путь\n",
        "    os.mkdir(dst_path)\n",
        "\n",
        "    # Перебираем элементы, отобранного списка с начального по конечный индекс\n",
        "    for fname in class_files[start_index : end_index]:\n",
        "        # Путь к файлу (источник)\n",
        "        src = os.path.join(src_path, fname)\n",
        "        # Новый путь расположения файла (назначение)\n",
        "        dst = os.path.join(dst_path, fname)\n",
        "        # Копируем файл из источника в новое место (назначение)\n",
        "        shutil.copyfile(src, dst)\n",
        "\n",
        "\n",
        "for class_label in range(CLASS_COUNT):    # Перебор по всем классам по порядку номеров (их меток)\n",
        "    class_name = CLASS_LIST[class_label]  # Выборка имени класса из списка имен\n",
        "\n",
        "    # Создаем обучающую выборку для заданного класса из диапазона (0-1000)\n",
        "    create_dataset(IMAGE_PATH, train_dir, class_name, 0, 1000)\n",
        "    # Создаем проверочную выборку для заданного класса из диапазона (1000-1500)\n",
        "    create_dataset(IMAGE_PATH, validation_dir, class_name, 1000, 1500)\n",
        "    # Создаем тестовую выборку для заданного класса из диапазона (1500-2000)\n",
        "    create_dataset(IMAGE_PATH, test_dir, class_name, 1500, 2000)"
      ],
      "metadata": {
        "id": "N2u9wvqahlRB"
      },
      "execution_count": null,
      "outputs": []
    },
    {
      "cell_type": "code",
      "source": [
        "from keras.applications import MobileNet\n",
        "from keras import models\n",
        "from keras.layers import GlobalAveragePooling2D, Dense, Dropout\n",
        "from keras import optimizers\n",
        "from keras.models import Model\n",
        "def model_maker():\n",
        "    base_model = MobileNet(include_top=False, input_shape = (150,150, 3))\n",
        "\n",
        "    for layer in base_model.layers[:]:\n",
        "        layer.trainable = False\n",
        "    input = layers.Input(shape=(150, 150, 3))\n",
        "    custom_model = base_model(input)\n",
        "    custom_model = GlobalAveragePooling2D()(custom_model)\n",
        "    custom_model = Dense(64, activation='relu')(custom_model)\n",
        "    custom_model = Dropout(0.5)(custom_model)\n",
        "    predictions = Dense(CLASS_COUNT, activation='softmax')(custom_model)\n",
        "\n",
        "    return Model(inputs=input,outputs=predictions)"
      ],
      "metadata": {
        "id": "kwp7PiHFrqw7"
      },
      "execution_count": null,
      "outputs": []
    },
    {
      "cell_type": "code",
      "source": [
        "model = model_maker()"
      ],
      "metadata": {
        "colab": {
          "base_uri": "https://localhost:8080/"
        },
        "id": "I6GjwPWCtEhr",
        "outputId": "0741e03e-ca38-4097-ed42-88f6d09af1a9"
      },
      "execution_count": null,
      "outputs": [
        {
          "output_type": "stream",
          "name": "stderr",
          "text": [
            "<ipython-input-3-d737a423bdbd>:7: UserWarning: `input_shape` is undefined or non-square, or `rows` is not in [128, 160, 192, 224]. Weights for input shape (224, 224) will be loaded as the default.\n",
            "  base_model = MobileNet(include_top=False, input_shape = (150,150, 3))\n"
          ]
        }
      ]
    },
    {
      "cell_type": "code",
      "source": [
        "train_datagen = ImageDataGenerator(rescale=1./255,rotation_range=0.2,width_shift_range=0.2,height_shift_range=0.2,shear_range=0.2,zoom_range=0.2,horizontal_flip=True,fill_mode='nearest')\n",
        "test_datagen = ImageDataGenerator(rescale=1./255)\n",
        "\n",
        "\n",
        "train_generator = train_datagen.flow_from_directory(train_dir,target_size=(150,150),batch_size=20,class_mode='categorical')\n",
        "validation_generator = test_datagen.flow_from_directory(validation_dir,target_size=(150,150),batch_size=20,class_mode='categorical')\n",
        "\n",
        "\n",
        "\n"
      ],
      "metadata": {
        "colab": {
          "base_uri": "https://localhost:8080/"
        },
        "id": "dTUTXoAin3ps",
        "outputId": "da8e30d0-3f8b-4187-ccc8-11a1db6498d3"
      },
      "execution_count": null,
      "outputs": [
        {
          "output_type": "stream",
          "name": "stdout",
          "text": [
            "Found 2000 images belonging to 2 classes.\n",
            "Found 1000 images belonging to 2 classes.\n"
          ]
        }
      ]
    },
    {
      "cell_type": "code",
      "source": [
        "model.compile(optimizer=optimizers.Adam(learning_rate=2e-5),loss='categorical_crossentropy',metrics=['acc'])\n",
        "history = model.fit(x=train_generator,epochs=100,validation_data=validation_generator)"
      ],
      "metadata": {
        "colab": {
          "base_uri": "https://localhost:8080/"
        },
        "id": "bQk2IhuIvmxy",
        "outputId": "f59416fa-cab7-4b13-88f1-701c0c66a606"
      },
      "execution_count": null,
      "outputs": [
        {
          "metadata": {
            "tags": null
          },
          "name": "stdout",
          "output_type": "stream",
          "text": [
            "Epoch 1/50\n"
          ]
        },
        {
          "metadata": {
            "tags": null
          },
          "name": "stderr",
          "output_type": "stream",
          "text": [
            "/usr/local/lib/python3.10/dist-packages/keras/src/trainers/data_adapters/py_dataset_adapter.py:122: UserWarning: Your `PyDataset` class should call `super().__init__(**kwargs)` in its constructor. `**kwargs` can include `workers`, `use_multiprocessing`, `max_queue_size`. Do not pass these arguments to `fit()`, as they will be ignored.\n",
            "  self._warn_if_super_not_called()\n"
          ]
        },
        {
          "output_type": "stream",
          "name": "stdout",
          "text": [
            "\u001b[1m100/100\u001b[0m \u001b[32m━━━━━━━━━━━━━━━━━━━━\u001b[0m\u001b[37m\u001b[0m \u001b[1m63s\u001b[0m 576ms/step - acc: 0.5396 - loss: 1.6930 - val_acc: 0.6890 - val_loss: 0.6114\n",
            "Epoch 2/50\n",
            "\u001b[1m100/100\u001b[0m \u001b[32m━━━━━━━━━━━━━━━━━━━━\u001b[0m\u001b[37m\u001b[0m \u001b[1m57s\u001b[0m 561ms/step - acc: 0.6379 - loss: 0.9595 - val_acc: 0.8100 - val_loss: 0.3879\n",
            "Epoch 3/50\n",
            "\u001b[1m100/100\u001b[0m \u001b[32m━━━━━━━━━━━━━━━━━━━━\u001b[0m\u001b[37m\u001b[0m \u001b[1m58s\u001b[0m 568ms/step - acc: 0.6975 - loss: 0.7648 - val_acc: 0.8650 - val_loss: 0.2980\n",
            "Epoch 4/50\n",
            "\u001b[1m100/100\u001b[0m \u001b[32m━━━━━━━━━━━━━━━━━━━━\u001b[0m\u001b[37m\u001b[0m \u001b[1m58s\u001b[0m 569ms/step - acc: 0.7667 - loss: 0.5541 - val_acc: 0.8900 - val_loss: 0.2511\n",
            "Epoch 5/50\n",
            "\u001b[1m100/100\u001b[0m \u001b[32m━━━━━━━━━━━━━━━━━━━━\u001b[0m\u001b[37m\u001b[0m \u001b[1m86s\u001b[0m 607ms/step - acc: 0.8059 - loss: 0.4567 - val_acc: 0.9140 - val_loss: 0.2177\n",
            "Epoch 6/50\n",
            "\u001b[1m100/100\u001b[0m \u001b[32m━━━━━━━━━━━━━━━━━━━━\u001b[0m\u001b[37m\u001b[0m \u001b[1m77s\u001b[0m 553ms/step - acc: 0.8070 - loss: 0.4831 - val_acc: 0.9220 - val_loss: 0.1973\n",
            "Epoch 7/50\n",
            "\u001b[1m100/100\u001b[0m \u001b[32m━━━━━━━━━━━━━━━━━━━━\u001b[0m\u001b[37m\u001b[0m \u001b[1m56s\u001b[0m 542ms/step - acc: 0.8393 - loss: 0.3763 - val_acc: 0.9280 - val_loss: 0.1820\n",
            "Epoch 8/50\n",
            "\u001b[1m100/100\u001b[0m \u001b[32m━━━━━━━━━━━━━━━━━━━━\u001b[0m\u001b[37m\u001b[0m \u001b[1m85s\u001b[0m 575ms/step - acc: 0.8553 - loss: 0.3630 - val_acc: 0.9340 - val_loss: 0.1695\n",
            "Epoch 9/50\n",
            "\u001b[1m100/100\u001b[0m \u001b[32m━━━━━━━━━━━━━━━━━━━━\u001b[0m\u001b[37m\u001b[0m \u001b[1m55s\u001b[0m 542ms/step - acc: 0.8797 - loss: 0.3155 - val_acc: 0.9410 - val_loss: 0.1620\n",
            "Epoch 10/50\n",
            "\u001b[1m100/100\u001b[0m \u001b[32m━━━━━━━━━━━━━━━━━━━━\u001b[0m\u001b[37m\u001b[0m \u001b[1m83s\u001b[0m 550ms/step - acc: 0.8748 - loss: 0.3304 - val_acc: 0.9450 - val_loss: 0.1552\n",
            "Epoch 11/50\n",
            "\u001b[1m100/100\u001b[0m \u001b[32m━━━━━━━━━━━━━━━━━━━━\u001b[0m\u001b[37m\u001b[0m \u001b[1m87s\u001b[0m 598ms/step - acc: 0.9031 - loss: 0.2361 - val_acc: 0.9490 - val_loss: 0.1503\n",
            "Epoch 12/50\n",
            "\u001b[1m100/100\u001b[0m \u001b[32m━━━━━━━━━━━━━━━━━━━━\u001b[0m\u001b[37m\u001b[0m \u001b[1m79s\u001b[0m 566ms/step - acc: 0.8921 - loss: 0.2749 - val_acc: 0.9470 - val_loss: 0.1465\n",
            "Epoch 13/50\n",
            "\u001b[1m100/100\u001b[0m \u001b[32m━━━━━━━━━━━━━━━━━━━━\u001b[0m\u001b[37m\u001b[0m \u001b[1m54s\u001b[0m 535ms/step - acc: 0.8806 - loss: 0.2793 - val_acc: 0.9470 - val_loss: 0.1440\n",
            "Epoch 14/50\n",
            "\u001b[1m100/100\u001b[0m \u001b[32m━━━━━━━━━━━━━━━━━━━━\u001b[0m\u001b[37m\u001b[0m \u001b[1m61s\u001b[0m 597ms/step - acc: 0.8906 - loss: 0.2503 - val_acc: 0.9490 - val_loss: 0.1413\n",
            "Epoch 15/50\n",
            "\u001b[1m100/100\u001b[0m \u001b[32m━━━━━━━━━━━━━━━━━━━━\u001b[0m\u001b[37m\u001b[0m \u001b[1m76s\u001b[0m 538ms/step - acc: 0.9039 - loss: 0.2526 - val_acc: 0.9490 - val_loss: 0.1386\n",
            "Epoch 16/50\n",
            "\u001b[1m100/100\u001b[0m \u001b[32m━━━━━━━━━━━━━━━━━━━━\u001b[0m\u001b[37m\u001b[0m \u001b[1m55s\u001b[0m 541ms/step - acc: 0.9002 - loss: 0.2502 - val_acc: 0.9480 - val_loss: 0.1363\n",
            "Epoch 17/50\n",
            "\u001b[1m100/100\u001b[0m \u001b[32m━━━━━━━━━━━━━━━━━━━━\u001b[0m\u001b[37m\u001b[0m \u001b[1m56s\u001b[0m 556ms/step - acc: 0.9041 - loss: 0.2411 - val_acc: 0.9520 - val_loss: 0.1340\n",
            "Epoch 18/50\n",
            "\u001b[1m100/100\u001b[0m \u001b[32m━━━━━━━━━━━━━━━━━━━━\u001b[0m\u001b[37m\u001b[0m \u001b[1m83s\u001b[0m 566ms/step - acc: 0.9320 - loss: 0.1961 - val_acc: 0.9510 - val_loss: 0.1309\n",
            "Epoch 19/50\n",
            "\u001b[1m100/100\u001b[0m \u001b[32m━━━━━━━━━━━━━━━━━━━━\u001b[0m\u001b[37m\u001b[0m \u001b[1m55s\u001b[0m 541ms/step - acc: 0.9227 - loss: 0.2086 - val_acc: 0.9530 - val_loss: 0.1285\n",
            "Epoch 20/50\n",
            "\u001b[1m100/100\u001b[0m \u001b[32m━━━━━━━━━━━━━━━━━━━━\u001b[0m\u001b[37m\u001b[0m \u001b[1m59s\u001b[0m 578ms/step - acc: 0.9020 - loss: 0.2331 - val_acc: 0.9540 - val_loss: 0.1268\n",
            "Epoch 21/50\n",
            "\u001b[1m100/100\u001b[0m \u001b[32m━━━━━━━━━━━━━━━━━━━━\u001b[0m\u001b[37m\u001b[0m \u001b[1m54s\u001b[0m 534ms/step - acc: 0.9234 - loss: 0.1940 - val_acc: 0.9550 - val_loss: 0.1258\n",
            "Epoch 22/50\n",
            "\u001b[1m100/100\u001b[0m \u001b[32m━━━━━━━━━━━━━━━━━━━━\u001b[0m\u001b[37m\u001b[0m \u001b[1m65s\u001b[0m 643ms/step - acc: 0.9079 - loss: 0.2190 - val_acc: 0.9560 - val_loss: 0.1244\n",
            "Epoch 23/50\n",
            "\u001b[1m100/100\u001b[0m \u001b[32m━━━━━━━━━━━━━━━━━━━━\u001b[0m\u001b[37m\u001b[0m \u001b[1m54s\u001b[0m 534ms/step - acc: 0.9225 - loss: 0.1805 - val_acc: 0.9530 - val_loss: 0.1223\n",
            "Epoch 24/50\n",
            "\u001b[1m100/100\u001b[0m \u001b[32m━━━━━━━━━━━━━━━━━━━━\u001b[0m\u001b[37m\u001b[0m \u001b[1m57s\u001b[0m 557ms/step - acc: 0.9146 - loss: 0.2017 - val_acc: 0.9520 - val_loss: 0.1213\n",
            "Epoch 25/50\n",
            "\u001b[1m100/100\u001b[0m \u001b[32m━━━━━━━━━━━━━━━━━━━━\u001b[0m\u001b[37m\u001b[0m \u001b[1m54s\u001b[0m 532ms/step - acc: 0.9257 - loss: 0.1829 - val_acc: 0.9560 - val_loss: 0.1208\n",
            "Epoch 26/50\n",
            "\u001b[1m100/100\u001b[0m \u001b[32m━━━━━━━━━━━━━━━━━━━━\u001b[0m\u001b[37m\u001b[0m \u001b[1m84s\u001b[0m 552ms/step - acc: 0.9298 - loss: 0.1765 - val_acc: 0.9530 - val_loss: 0.1184\n",
            "Epoch 27/50\n",
            "\u001b[1m100/100\u001b[0m \u001b[32m━━━━━━━━━━━━━━━━━━━━\u001b[0m\u001b[37m\u001b[0m \u001b[1m84s\u001b[0m 577ms/step - acc: 0.9434 - loss: 0.1634 - val_acc: 0.9550 - val_loss: 0.1180\n",
            "Epoch 28/50\n",
            "\u001b[1m100/100\u001b[0m \u001b[32m━━━━━━━━━━━━━━━━━━━━\u001b[0m\u001b[37m\u001b[0m \u001b[1m79s\u001b[0m 552ms/step - acc: 0.9279 - loss: 0.1812 - val_acc: 0.9550 - val_loss: 0.1168\n",
            "Epoch 29/50\n",
            "\u001b[1m100/100\u001b[0m \u001b[32m━━━━━━━━━━━━━━━━━━━━\u001b[0m\u001b[37m\u001b[0m \u001b[1m60s\u001b[0m 590ms/step - acc: 0.9284 - loss: 0.1585 - val_acc: 0.9560 - val_loss: 0.1159\n",
            "Epoch 30/50\n",
            "\u001b[1m100/100\u001b[0m \u001b[32m━━━━━━━━━━━━━━━━━━━━\u001b[0m\u001b[37m\u001b[0m \u001b[1m84s\u001b[0m 604ms/step - acc: 0.9255 - loss: 0.1880 - val_acc: 0.9570 - val_loss: 0.1161\n",
            "Epoch 31/50\n",
            "\u001b[1m100/100\u001b[0m \u001b[32m━━━━━━━━━━━━━━━━━━━━\u001b[0m\u001b[37m\u001b[0m \u001b[1m54s\u001b[0m 531ms/step - acc: 0.9313 - loss: 0.1709 - val_acc: 0.9570 - val_loss: 0.1145\n",
            "Epoch 32/50\n",
            "\u001b[1m100/100\u001b[0m \u001b[32m━━━━━━━━━━━━━━━━━━━━\u001b[0m\u001b[37m\u001b[0m \u001b[1m91s\u001b[0m 619ms/step - acc: 0.9231 - loss: 0.1856 - val_acc: 0.9580 - val_loss: 0.1123\n",
            "Epoch 33/50\n",
            "\u001b[1m100/100\u001b[0m \u001b[32m━━━━━━━━━━━━━━━━━━━━\u001b[0m\u001b[37m\u001b[0m \u001b[1m54s\u001b[0m 535ms/step - acc: 0.9342 - loss: 0.1658 - val_acc: 0.9590 - val_loss: 0.1117\n",
            "Epoch 34/50\n",
            "\u001b[1m100/100\u001b[0m \u001b[32m━━━━━━━━━━━━━━━━━━━━\u001b[0m\u001b[37m\u001b[0m \u001b[1m84s\u001b[0m 556ms/step - acc: 0.9377 - loss: 0.1642 - val_acc: 0.9570 - val_loss: 0.1099\n",
            "Epoch 35/50\n",
            "\u001b[1m100/100\u001b[0m \u001b[32m━━━━━━━━━━━━━━━━━━━━\u001b[0m\u001b[37m\u001b[0m \u001b[1m85s\u001b[0m 576ms/step - acc: 0.9199 - loss: 0.1828 - val_acc: 0.9580 - val_loss: 0.1103\n",
            "Epoch 36/50\n",
            "\u001b[1m100/100\u001b[0m \u001b[32m━━━━━━━━━━━━━━━━━━━━\u001b[0m\u001b[37m\u001b[0m \u001b[1m55s\u001b[0m 540ms/step - acc: 0.9480 - loss: 0.1449 - val_acc: 0.9580 - val_loss: 0.1093\n",
            "Epoch 37/50\n",
            "\u001b[1m100/100\u001b[0m \u001b[32m━━━━━━━━━━━━━━━━━━━━\u001b[0m\u001b[37m\u001b[0m \u001b[1m81s\u001b[0m 530ms/step - acc: 0.9323 - loss: 0.1588 - val_acc: 0.9580 - val_loss: 0.1097\n",
            "Epoch 38/50\n",
            "\u001b[1m100/100\u001b[0m \u001b[32m━━━━━━━━━━━━━━━━━━━━\u001b[0m\u001b[37m\u001b[0m \u001b[1m85s\u001b[0m 553ms/step - acc: 0.9389 - loss: 0.1408 - val_acc: 0.9580 - val_loss: 0.1094\n",
            "Epoch 39/50\n",
            "\u001b[1m100/100\u001b[0m \u001b[32m━━━━━━━━━━━━━━━━━━━━\u001b[0m\u001b[37m\u001b[0m \u001b[1m59s\u001b[0m 578ms/step - acc: 0.9358 - loss: 0.1512 - val_acc: 0.9580 - val_loss: 0.1089\n",
            "Epoch 40/50\n",
            "\u001b[1m100/100\u001b[0m \u001b[32m━━━━━━━━━━━━━━━━━━━━\u001b[0m\u001b[37m\u001b[0m \u001b[1m78s\u001b[0m 541ms/step - acc: 0.9408 - loss: 0.1593 - val_acc: 0.9580 - val_loss: 0.1084\n",
            "Epoch 41/50\n",
            "\u001b[1m100/100\u001b[0m \u001b[32m━━━━━━━━━━━━━━━━━━━━\u001b[0m\u001b[37m\u001b[0m \u001b[1m81s\u001b[0m 535ms/step - acc: 0.9271 - loss: 0.1542 - val_acc: 0.9590 - val_loss: 0.1085\n",
            "Epoch 42/50\n",
            "\u001b[1m100/100\u001b[0m \u001b[32m━━━━━━━━━━━━━━━━━━━━\u001b[0m\u001b[37m\u001b[0m \u001b[1m55s\u001b[0m 541ms/step - acc: 0.9358 - loss: 0.1378 - val_acc: 0.9590 - val_loss: 0.1073\n",
            "Epoch 43/50\n",
            "\u001b[1m100/100\u001b[0m \u001b[32m━━━━━━━━━━━━━━━━━━━━\u001b[0m\u001b[37m\u001b[0m \u001b[1m82s\u001b[0m 539ms/step - acc: 0.9385 - loss: 0.1442 - val_acc: 0.9590 - val_loss: 0.1072\n",
            "Epoch 44/50\n",
            "\u001b[1m100/100\u001b[0m \u001b[32m━━━━━━━━━━━━━━━━━━━━\u001b[0m\u001b[37m\u001b[0m \u001b[1m55s\u001b[0m 537ms/step - acc: 0.9354 - loss: 0.1557 - val_acc: 0.9580 - val_loss: 0.1059\n",
            "Epoch 45/50\n",
            "\u001b[1m100/100\u001b[0m \u001b[32m━━━━━━━━━━━━━━━━━━━━\u001b[0m\u001b[37m\u001b[0m \u001b[1m88s\u001b[0m 593ms/step - acc: 0.9334 - loss: 0.1495 - val_acc: 0.9570 - val_loss: 0.1045\n",
            "Epoch 46/50\n",
            "\u001b[1m100/100\u001b[0m \u001b[32m━━━━━━━━━━━━━━━━━━━━\u001b[0m\u001b[37m\u001b[0m \u001b[1m55s\u001b[0m 546ms/step - acc: 0.9435 - loss: 0.1419 - val_acc: 0.9580 - val_loss: 0.1055\n",
            "Epoch 47/50\n",
            "\u001b[1m100/100\u001b[0m \u001b[32m━━━━━━━━━━━━━━━━━━━━\u001b[0m\u001b[37m\u001b[0m \u001b[1m81s\u001b[0m 534ms/step - acc: 0.9400 - loss: 0.1745 - val_acc: 0.9600 - val_loss: 0.1069\n",
            "Epoch 48/50\n",
            "\u001b[1m100/100\u001b[0m \u001b[32m━━━━━━━━━━━━━━━━━━━━\u001b[0m\u001b[37m\u001b[0m \u001b[1m56s\u001b[0m 547ms/step - acc: 0.9546 - loss: 0.1294 - val_acc: 0.9580 - val_loss: 0.1039\n",
            "Epoch 49/50\n",
            "\u001b[1m100/100\u001b[0m \u001b[32m━━━━━━━━━━━━━━━━━━━━\u001b[0m\u001b[37m\u001b[0m \u001b[1m55s\u001b[0m 537ms/step - acc: 0.9441 - loss: 0.1362 - val_acc: 0.9580 - val_loss: 0.1042\n",
            "Epoch 50/50\n",
            "\u001b[1m100/100\u001b[0m \u001b[32m━━━━━━━━━━━━━━━━━━━━\u001b[0m\u001b[37m\u001b[0m \u001b[1m88s\u001b[0m 594ms/step - acc: 0.9431 - loss: 0.1390 - val_acc: 0.9580 - val_loss: 0.1038\n"
          ]
        }
      ]
    },
    {
      "cell_type": "code",
      "source": [
        "import matplotlib.pyplot as plt\n",
        "%matplotlib inline\n",
        "\n",
        "\n",
        "acc = history.history['acc']\n",
        "val_acc = history.history['val_acc']\n",
        "loss = history.history['loss']\n",
        "val_loss = history.history['val_loss']\n",
        "epochs = range(1,len(acc)+1)\n",
        "\n",
        "plt.plot(epochs,acc,'r',label='Точность на обучающей выборке')\n",
        "plt.plot(epochs,val_acc,'bo',label='Точность на валидационной выборке')\n",
        "plt.legend()\n",
        "plt.figure()\n",
        "plt.plot(epochs,loss,'r',label='Потери на обучающей выборке')\n",
        "plt.plot(epochs,val_loss,'bo',label='Потери на валидационной выборке')\n",
        "plt.legend()\n",
        "plt.show()\n"
      ],
      "metadata": {
        "colab": {
          "base_uri": "https://localhost:8080/",
          "height": 843
        },
        "id": "1iqRxIhZGHqd",
        "outputId": "6c08c0fb-37ee-425a-f1cc-188983ea3d4b"
      },
      "execution_count": null,
      "outputs": [
        {
          "output_type": "display_data",
          "data": {
            "text/plain": [
              "<Figure size 640x480 with 1 Axes>"
            ],
            "image/png": "[encoded data removed]"
          },
          "metadata": {}
        },
        {
          "output_type": "display_data",
          "data": {
            "text/plain": [
              "<Figure size 640x480 with 1 Axes>"
            ],
            "image/png": "[encoded data removed]"
          },
          "metadata": {}
        }
      ]
    },
    {
      "cell_type": "code",
      "source": [
        "test_generator = test_datagen.flow_from_directory(test_dir,target_size=(150,150),batch_size=20,class_mode='categorical')\n",
        "test_acc,test_loss = model.evaluate(test_generator,steps=50)"
      ],
      "metadata": {
        "colab": {
          "base_uri": "https://localhost:8080/"
        },
        "id": "uYL_aN0jHEHm",
        "outputId": "18675fe3-95a1-45e8-86dd-81d7133ca558"
      },
      "execution_count": null,
      "outputs": [
        {
          "output_type": "stream",
          "name": "stdout",
          "text": [
            "Found 1000 images belonging to 2 classes.\n"
          ]
        },
        {
          "output_type": "stream",
          "name": "stderr",
          "text": [
            "/usr/local/lib/python3.10/dist-packages/keras/src/trainers/data_adapters/py_dataset_adapter.py:122: UserWarning: Your `PyDataset` class should call `super().__init__(**kwargs)` in its constructor. `**kwargs` can include `workers`, `use_multiprocessing`, `max_queue_size`. Do not pass these arguments to `fit()`, as they will be ignored.\n",
            "  self._warn_if_super_not_called()\n"
          ]
        },
        {
          "output_type": "stream",
          "name": "stdout",
          "text": [
            "\u001b[1m50/50\u001b[0m \u001b[32m━━━━━━━━━━━━━━━━━━━━\u001b[0m\u001b[37m\u001b[0m \u001b[1m15s\u001b[0m 298ms/step - acc: 0.9711 - loss: 0.0816\n"
          ]
        }
      ]
    },
    {
      "cell_type": "code",
      "source": [
        "print(f'Точность на контрольной выборке:{test_acc}')\n",
        "print(f'Потери на контрольной выборке:{test_loss}')"
      ],
      "metadata": {
        "colab": {
          "base_uri": "https://localhost:8080/"
        },
        "id": "aprSXFA0H5Gw",
        "outputId": "e6cea37b-688a-4271-e66a-69687d65a660"
      },
      "execution_count": null,
      "outputs": [
        {
          "output_type": "stream",
          "name": "stdout",
          "text": [
            "Точность на контрольной выборке:0.10463283210992813\n",
            "Потери на контрольной выборке:0.9639999866485596\n"
          ]
        }
      ]
    }
  ]
}